{
 "cells": [
  {
   "cell_type": "code",
   "execution_count": 3,
   "metadata": {},
   "outputs": [],
   "source": [
    "import cv2\n",
    "import os\n",
    "\n",
    "def convert_png_to_mp4(folder_path, output_path, fps):\n",
    "    image_files = sorted(os.listdir(folder_path))\n",
    "    image_path = os.path.join(folder_path, image_files[0])\n",
    "    frame = cv2.imread(image_path)\n",
    "    height, width, _ = frame.shape\n",
    "\n",
    "    fourcc = cv2.VideoWriter_fourcc(*'mp4v')\n",
    "    video = cv2.VideoWriter(output_path, fourcc, fps, (width, height))\n",
    "\n",
    "    for image_file in image_files:\n",
    "        image_path = os.path.join(folder_path, image_file)\n",
    "        frame = cv2.imread(image_path)\n",
    "        video.write(frame)\n",
    "\n",
    "    video.release()\n",
    "\n",
    "# Example usage\n",
    "folder_path = r'C:\\Users\\ADMIN\\Downloads\\Telegram Desktop\\data_road\\testing\\video'\n",
    "output_path = r'C:\\Users\\ADMIN\\Downloads\\Telegram Desktop\\data_road\\testing\\video.mp4'\n",
    "fps = 1\n",
    "\n",
    "convert_png_to_mp4(folder_path, output_path, fps)\n"
   ]
  },
  {
   "cell_type": "code",
   "execution_count": null,
   "metadata": {},
   "outputs": [],
   "source": []
  }
 ],
 "metadata": {
  "kernelspec": {
   "display_name": "Python 3",
   "language": "python",
   "name": "python3"
  },
  "language_info": {
   "codemirror_mode": {
    "name": "ipython",
    "version": 3
   },
   "file_extension": ".py",
   "mimetype": "text/x-python",
   "name": "python",
   "nbconvert_exporter": "python",
   "pygments_lexer": "ipython3",
   "version": "3.11.0"
  },
  "orig_nbformat": 4
 },
 "nbformat": 4,
 "nbformat_minor": 2
}
